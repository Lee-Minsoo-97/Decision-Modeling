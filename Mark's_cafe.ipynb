{
  "cells": [
    {
      "cell_type": "markdown",
      "metadata": {
        "id": "view-in-github",
        "colab_type": "text"
      },
      "source": [
        "<a href=\"https://colab.research.google.com/github/Lee-Minsoo-97/Decision-Modeling/blob/main/Mark's_cafe.ipynb\" target=\"_parent\"><img src=\"https://colab.research.google.com/assets/colab-badge.svg\" alt=\"Open In Colab\"/></a>"
      ]
    },
    {
      "cell_type": "markdown",
      "source": [
        "# Mark's Cafe"
      ],
      "metadata": {
        "id": "qOXqm9_eBkHE"
      },
      "id": "qOXqm9_eBkHE"
    },
    {
      "cell_type": "markdown",
      "source": [
        "## Objective and Prerequisites\n",
        "\n",
        "Mark's Cafe wants to maximize their profit by determining the number of Two-person tables(TT) and Four-person tables(FT) they should setup. The objectives of the Mark's Cafe problem are:\n",
        "\n",
        "* The number of tables should be less than maximum tables that can be accomodated,\n",
        "* Total serving and chef labour hours per hour cannot exceed the available, and\n",
        "* The number of tables that can be setup are valid, i.e., non- negative values."
      ],
      "metadata": {
        "id": "YpvmXOdcCI-I"
      },
      "id": "YpvmXOdcCI-I"
    },
    {
      "cell_type": "markdown",
      "source": [
        "---\n",
        "## Problem Description\n",
        "\n",
        "Mark's Cafe wants to decide how many of each table type - two-person (TT) and four-person(FT) to setup at the cafe. Each TT generates a revenue of 100 dollars per hour and each FT generates 150 dollars. Labor is required for cooking and serving. In any given hour, there are 480 minutes of serving labor minutes and 300 minutes of chef labor minutes available. Each serving labor costs 18 dollars per hour and chef labor costs 32 dollars per hour. Each TT requires 10 minutes of serving labor and 20 minutes of chef labor, while each FT requires 15 minutes of serving labor and 35 minutes of chef labor. Mark wants to know how many of each table type he should accomodate such that his profit is maximized, but he cannot setup more than 6 two-person tables (TT) and 12 four-person tables (FT), and he cannot extend the labor hours."
      ],
      "metadata": {
        "id": "CYjzWGddWPo2"
      },
      "id": "CYjzWGddWPo2"
    },
    {
      "cell_type": "markdown",
      "source": [
        "## Model Formulation\n",
        "\n",
        "### Indices\n",
        "\n",
        "$i \\in \\{TT,FT\\}$: Index to represent different table types.\n",
        "\n",
        "### Parameters\n",
        "\n",
        "$R_{i}$: Revenue per hour of table type $i$.\n",
        "\n",
        "$CS$: Cost of serving hours.\n",
        "\n",
        "$CC$: Cost of chef hours.\n",
        "\n",
        "$LS_{i}$: Serving hours for table type $i$.\n",
        "\n",
        "$LC_{i}$: Chef hours for table type $i$.\n",
        "\n",
        "$AS$: Available serving time per hour.\n",
        "\n",
        "$AC$: Available chef time per hour.\n",
        "\n",
        "$N_{i}$: Maximum number of table type $i$.\n",
        "\n",
        "### Decision Variables\n",
        "\n",
        "$x_{i}$: Number of table type $i$ to set up .\n",
        "\n",
        "\n",
        "### Objective Function\n",
        "\n",
        "- **Profit**. We want to Maximize the total profit.\n",
        "\n",
        "\n",
        "\\begin{equation}\n",
        "\\text{Max}_{x_{i}} \\quad \\sum_{(i) \\in {TT,FT}} [R_{i} - CS*LS_{i} -CC*LC_{i}]*x_{i}\n",
        "\\tag{0}\n",
        "\\end{equation}\n",
        "\n",
        "### Constraints\n",
        "\n",
        "\\begin{equation}\n",
        "\\ x_{i} \\leq N_{i} \\quad \\ i \\in \\{TT,FT\\} \\quad (\\text{number of table type i cannot exceed maximum that can be accomodated})\n",
        "\\tag{1}\n",
        "\\end{equation}\n",
        "\n",
        "\\begin{equation}\n",
        "\\sum_{i \\in (TT,FT)} LS_{i}*x_{i} \\leq AS (\\text{Serving hours cannot exceed available})\n",
        "\\tag{2}\n",
        "\\end{equation}\n",
        "\n",
        "\\begin{equation}\n",
        "\\sum_{i \\in (TT,FT)} LC_{i}*x_{i} \\leq AC (\\text{Chef hours cannot exceed available})\n",
        "\\tag{3}\n",
        "\\end{equation}\n",
        "\n",
        "\\begin{equation}\n",
        "\\ x_{i} \\geq 0 \\quad \\ i \\in \\{TT, FT\\} \\quad (\\text{Non - Negative tables})\n",
        "\\tag{4}\n",
        "\\end{equation}"
      ],
      "metadata": {
        "id": "3KiGuZLDcqAl"
      },
      "id": "3KiGuZLDcqAl"
    },
    {
      "cell_type": "markdown",
      "source": [
        "\n",
        "## Python Implementation\n",
        "\n",
        "We now import the Gurobi Python Module"
      ],
      "metadata": {
        "id": "x-T1BpKGh_lR"
      },
      "id": "x-T1BpKGh_lR"
    },
    {
      "cell_type": "code",
      "source": [
        "pip install gurobipy"
      ],
      "metadata": {
        "id": "pBRTPFU0mEYa",
        "colab": {
          "base_uri": "https://localhost:8080/"
        },
        "outputId": "69d5defa-08fb-488e-f8be-8c58b567a0d4"
      },
      "id": "pBRTPFU0mEYa",
      "execution_count": null,
      "outputs": [
        {
          "output_type": "stream",
          "name": "stdout",
          "text": [
            "Requirement already satisfied: gurobipy in /usr/local/lib/python3.10/dist-packages (10.0.3)\n"
          ]
        }
      ]
    },
    {
      "cell_type": "code",
      "execution_count": null,
      "id": "9368f40d",
      "metadata": {
        "id": "9368f40d"
      },
      "outputs": [],
      "source": [
        "import gurobipy as gp\n",
        "from gurobipy import GRB"
      ]
    },
    {
      "cell_type": "markdown",
      "source": [
        "Set up the model"
      ],
      "metadata": {
        "id": "QA85ZbxeiP4S"
      },
      "id": "QA85ZbxeiP4S"
    },
    {
      "cell_type": "code",
      "execution_count": null,
      "id": "47824104",
      "metadata": {
        "id": "47824104"
      },
      "outputs": [],
      "source": [
        "#####################################################\n",
        "#                    Model Formulation\n",
        "#####################################################\n",
        "\n",
        "m = gp.Model('mark\\'s cafe')"
      ]
    },
    {
      "cell_type": "code",
      "execution_count": null,
      "id": "31837055",
      "metadata": {
        "id": "31837055"
      },
      "outputs": [],
      "source": [
        "#Input Parameters\n",
        "table_type = [*range(0,2)]\n",
        "table_type_label =['TT','FT']\n",
        "\n",
        "R = [100,150]   #Revenue per hour of table type i\n",
        "CS = 18   #Cost of serving hours\n",
        "CC = 32   #Cost of chef hours\n",
        "LS = [0.167,0.25]   #Serving hours of table type i\n",
        "LC = [0.333,0.583]  #Chef hours of table type i\n",
        "AS = 8  #Available serving time per hour\n",
        "AC = 5  #Available chef time per hour\n",
        "N = [6,12]  #Maximum number of table type i"
      ]
    },
    {
      "cell_type": "code",
      "execution_count": null,
      "id": "542ffb23",
      "metadata": {
        "id": "542ffb23"
      },
      "outputs": [],
      "source": [
        "#Decision Variable\n",
        "x = m.addVars(table_type, vtype=GRB.CONTINUOUS, name=table_type_label)"
      ]
    },
    {
      "cell_type": "code",
      "execution_count": null,
      "id": "1127909a",
      "metadata": {
        "id": "1127909a"
      },
      "outputs": [],
      "source": [
        "# Set the Maximize Obijective: Total profit\n",
        "m.setObjective(gp.quicksum((R[i]-LS[i]*CS -LC[i]*CC)*x[i]\n",
        "                          for i in table_type),  GRB.MAXIMIZE)"
      ]
    },
    {
      "cell_type": "code",
      "execution_count": null,
      "id": "64127c0a",
      "metadata": {
        "id": "64127c0a"
      },
      "outputs": [],
      "source": [
        "# Total tables setup must be less than or equal to maximum that can be accomodated\n",
        "c1 = m.addConstrs((x[i] <= N[i] for i in table_type), name = 'cannot exceed maximum tables')\n",
        "\n",
        "# Serving hours cannot exceed available\n",
        "c2 = m.addConstr((gp.quicksum(LS[i]*x[i] for i in table_type) <= AS), name = 'cannot exceed available serving hours')\n",
        "\n",
        "# Chef hours cannot exceed available\n",
        "c3 = m.addConstr((gp.quicksum(LC[i]*x[i] for i in table_type) <= AC), name ='cannot exceed available chef hours')\n",
        "\n",
        "#Set Non-negative Decision Variable\n",
        "c4 = m.addConstrs((x[i] >= 0 for i in table_type), name = 'non-negative number of tables')"
      ]
    },
    {
      "cell_type": "markdown",
      "source": [
        "Solve the model"
      ],
      "metadata": {
        "id": "ejB3w4320XT5"
      },
      "id": "ejB3w4320XT5"
    },
    {
      "cell_type": "code",
      "execution_count": null,
      "id": "29590aed",
      "metadata": {
        "id": "29590aed",
        "colab": {
          "base_uri": "https://localhost:8080/"
        },
        "outputId": "7a179caa-3c32-4ed5-dfec-13d9b401b4ba"
      },
      "outputs": [
        {
          "output_type": "stream",
          "name": "stdout",
          "text": [
            "Gurobi Optimizer version 10.0.3 build v10.0.3rc0 (linux64)\n",
            "\n",
            "CPU model: AMD EPYC 7B12, instruction set [SSE2|AVX|AVX2]\n",
            "Thread count: 1 physical cores, 2 logical processors, using up to 2 threads\n",
            "\n",
            "Optimize a model with 6 rows, 2 columns and 8 nonzeros\n",
            "Model fingerprint: 0x0aca8e50\n",
            "Coefficient statistics:\n",
            "  Matrix range     [2e-01, 1e+00]\n",
            "  Objective range  [9e+01, 1e+02]\n",
            "  Bounds range     [0e+00, 0e+00]\n",
            "  RHS range        [5e+00, 1e+01]\n",
            "Presolve removed 6 rows and 2 columns\n",
            "Presolve time: 0.01s\n",
            "Presolve: All rows and columns removed\n",
            "Iteration    Objective       Primal Inf.    Dual Inf.      Time\n",
            "       0    1.1711767e+03   0.000000e+00   0.000000e+00      0s\n",
            "\n",
            "Solved in 0 iterations and 0.01 seconds (0.00 work units)\n",
            "Optimal objective  1.171176693e+03\n"
          ]
        }
      ],
      "source": [
        "# Run the optimize solver\n",
        "m.optimize()"
      ]
    },
    {
      "cell_type": "markdown",
      "source": [
        "Results of the Model"
      ],
      "metadata": {
        "id": "Uhhv0Fs5j7Er"
      },
      "id": "Uhhv0Fs5j7Er"
    },
    {
      "cell_type": "code",
      "execution_count": null,
      "id": "dba7e26b",
      "metadata": {
        "id": "dba7e26b",
        "colab": {
          "base_uri": "https://localhost:8080/"
        },
        "outputId": "bcb28c45-8ab8-47e2-9e61-333fd6db0b1c"
      },
      "outputs": [
        {
          "output_type": "stream",
          "name": "stdout",
          "text": [
            "The Optimal number of each table type to be set up for maximum profit\n",
            "\n",
            "\n",
            "    Variable            X \n",
            "-------------------------\n",
            "          TT            6 \n",
            "          FT      5.14923 \n",
            "\n",
            "Total profit: $ 1,171.17669296741\n"
          ]
        }
      ],
      "source": [
        "# Get the Optimal Solution for X\n",
        "print(\"The Optimal number of each table type to be set up for maximum profit\\n\")\n",
        "m.printAttr('X')\n",
        "def comma_value(number):\n",
        "    return (\"{:,}\".format(number))\n",
        "# print(\"\\nTotal profit: $%8.2f\" % (m.ObjVal))\n",
        "print(\"\\nTotal profit: $\",comma_value(m.ObjVal)) #per hour\n",
        "# m.printAttr('RHS')\n",
        "# m.printAttr('Slack')\n"
      ]
    },
    {
      "cell_type": "markdown",
      "source": [
        "More details on profits and resources used for each table type"
      ],
      "metadata": {
        "id": "ecwNWcgdkNbE"
      },
      "id": "ecwNWcgdkNbE"
    },
    {
      "cell_type": "code",
      "source": [
        "#Finding amount of Profit generated by each table type\n",
        "e = m.getObjective()\n",
        "margin = [e.getCoeff(i) for i in table_type ]\n",
        "tables = [v.x for v in m.getVars()]\n",
        "revenue = [margin[i]*tables[i] for i in table_type]\n",
        "for i in table_type:\n",
        "  print(\"Profit generated by\",table_type_label[i],\"table is $\",comma_value(revenue[i]))"
      ],
      "metadata": {
        "id": "LNSquU4aYVVE",
        "colab": {
          "base_uri": "https://localhost:8080/"
        },
        "outputId": "0c632e1f-b102-4756-d056-c138abb77216"
      },
      "id": "LNSquU4aYVVE",
      "execution_count": null,
      "outputs": [
        {
          "output_type": "stream",
          "name": "stdout",
          "text": [
            "Profit generated by TT table is $ 518.028\n",
            "Profit generated by FT table is $ 653.1486929674099\n"
          ]
        }
      ]
    },
    {
      "cell_type": "code",
      "source": [
        "#Finding the number of labor serving hours used by each table type\n",
        "serving_hour_used = [LS[i]*tables[i] for i in table_type]\n",
        "for i in table_type:\n",
        "  print(\"Number of Serving hours used by\",table_type_label[i],\"table is\",comma_value(serving_hour_used[i]))\n",
        "\n",
        "print(\"Total Serving hours used is\",comma_value(sum(serving_hour_used)))"
      ],
      "metadata": {
        "id": "mArRZCaAYVYb",
        "colab": {
          "base_uri": "https://localhost:8080/"
        },
        "outputId": "9b86cc65-a597-4ea4-ec16-3dd97bedb567"
      },
      "id": "mArRZCaAYVYb",
      "execution_count": null,
      "outputs": [
        {
          "output_type": "stream",
          "name": "stdout",
          "text": [
            "Number of Serving hours used by TT table is 1.002\n",
            "Number of Serving hours used by FT table is 1.2873070325900515\n",
            "Total Serving hours used is 2.2893070325900515\n"
          ]
        }
      ]
    },
    {
      "cell_type": "code",
      "source": [
        "#Finding the number of chef hours used by each table type\n",
        "chef_hour_used = [LC[i]*tables[i] for i in table_type]\n",
        "for i in table_type:\n",
        "  print(\"Number of chef hours used by\",table_type_label[i],\"table is\",comma_value(chef_hour_used[i]))\n",
        "\n",
        "print(\"Total chef hours\",comma_value(sum(chef_hour_used)))"
      ],
      "metadata": {
        "id": "_s-IwPrgYVb2",
        "colab": {
          "base_uri": "https://localhost:8080/"
        },
        "outputId": "56ae4190-1624-4b7f-bc4d-b002b0bcec86"
      },
      "id": "_s-IwPrgYVb2",
      "execution_count": null,
      "outputs": [
        {
          "output_type": "stream",
          "name": "stdout",
          "text": [
            "Number of chef hours used by TT table is 1.9980000000000002\n",
            "Number of chef hours used by FT table is 3.002\n",
            "Total chef hours 5.0\n"
          ]
        }
      ]
    },
    {
      "cell_type": "markdown",
      "source": [
        "##  Conclusion\n",
        "\n",
        "In the above problem we determined the number of tables that need to be setup at Mark's Cafe to obtain the maximum profit keeping in mind the maximum tables, serving and chef hour constarints.\n",
        "It is seen that the number of tables to be set up are 6 for Two-person type and 5.14 (~6) for the Four-person type\n"
      ],
      "metadata": {
        "id": "UQHlUbTkkgJd"
      },
      "id": "UQHlUbTkkgJd"
    },
    {
      "cell_type": "markdown",
      "source": [
        "##  References\n",
        "[1] Sixty examples of business optimization models. https://ytyimin.github.io/tart-cherry/.\n",
        "\n",
        "[2] Gurobi python reference. https://www.gurobi.com/documentation/"
      ],
      "metadata": {
        "id": "QZBv3Thonbj2"
      },
      "id": "QZBv3Thonbj2"
    }
  ],
  "metadata": {
    "kernelspec": {
      "display_name": "Python 3 (ipykernel)",
      "language": "python",
      "name": "python3"
    },
    "language_info": {
      "codemirror_mode": {
        "name": "ipython",
        "version": 3
      },
      "file_extension": ".py",
      "mimetype": "text/x-python",
      "name": "python",
      "nbconvert_exporter": "python",
      "pygments_lexer": "ipython3",
      "version": "3.9.12"
    },
    "colab": {
      "provenance": [],
      "include_colab_link": true
    }
  },
  "nbformat": 4,
  "nbformat_minor": 5
}