{
  "cells": [
    {
      "cell_type": "markdown",
      "metadata": {
        "id": "view-in-github",
        "colab_type": "text"
      },
      "source": [
        "<a href=\"https://colab.research.google.com/github/Lee-Minsoo-97/Decision-Modeling/blob/main/Cyprus_Potatoes_Pricing.ipynb\" target=\"_parent\"><img src=\"https://colab.research.google.com/assets/colab-badge.svg\" alt=\"Open In Colab\"/></a>"
      ]
    },
    {
      "cell_type": "markdown",
      "metadata": {
        "id": "SWWWN49eoi4Z"
      },
      "source": [
        "# Cyprus Potatoes Pricing Optimization"
      ]
    },
    {
      "cell_type": "markdown",
      "metadata": {
        "id": "yTw30bfQoi4a"
      },
      "source": [
        "## Objective and Prerequisites\n",
        "\n",
        "This pricing optimization problem shows you how to determine the optimal price in order to maximize projected revenue.\n",
        "\n",
        "This modeling example is at the introductory level, where we assume that you know Python and that you have some knowledge of how to build mathematical optimization models."
      ]
    },
    {
      "cell_type": "markdown",
      "metadata": {
        "id": "62q-NwBMoi4c"
      },
      "source": [
        "---\n",
        "## Problem Description\n",
        "\n",
        "You collected a sample of past price and demand information for Cyprus potatoes at a local grocery store. Based on these past experiences, the store wants to set an optimal price that can help it to maximize expected revenue. The following table lists the past price and demand on each of the month in the past year.\n",
        "\n",
        "| Month | Price | Demand |\n",
        "| --- | --- | --- |\n",
        "|1\t|450\t|45|\n",
        "|2\t|300\t|103|\n",
        "|3\t|440\t|49|\n",
        "|4\t|360\t|86|\n",
        "|5\t|290\t|125|\n",
        "|6\t|450\t|52|\n",
        "|7\t|340\t|87|\n",
        "|8\t|370\t|68|\n",
        "|9\t|500\t|45|\n",
        "|10\t|490\t|44|\n",
        "|11\t|430\t|58|\n",
        "|12\t|390\t|68|\n",
        "\n",
        "\n",
        "In this example, the goal is to identify an optimal price to set so that the total revenue is maximized. This example shows how a non-linear programming model model can help the business to:\n",
        "\n",
        "* How to set price in a scientific manner,\n",
        "* How to leverage historical data to make informed decisions, and\n",
        "* How to set up proper models to help the decision making process. This Jupyter Notebook is based on the MSBA SCM518 class contents."
      ]
    },
    {
      "cell_type": "markdown",
      "metadata": {
        "id": "MYpg58_8oi4e"
      },
      "source": [
        "## Model (a) Formulation - Estimating Demand Function $d(x) = a + bx$\n",
        "\n",
        "### Indices\n",
        "\n",
        "$i \\in \\{1..12\\}$: Index of months\n",
        "\n",
        "### Parameters\n",
        "\n",
        "$p_{i}$: Price (in USD) in month $i$.\n",
        "\n",
        "$d_{i}$: Demand (in tons) in month $i$.\n",
        "\n",
        "### Decision Variables\n",
        "\n",
        "$a$: Intercept of the demand function\n",
        "\n",
        "$b$: Slope of the demand function\n",
        "\n",
        "### Objective Function\n",
        "\n",
        "RMSE - we want to minimize the root mean squared error\n",
        "\n",
        "\\begin{equation}\n",
        "\\text{Min}_{a,b} \\quad \\sqrt{\\frac{\\sum_{i \\in \\{1...12\\}} \\left( d_{i} - (a + b*p_{i})\\right)^2}{12}}\n",
        "\\tag{0}\n",
        "\\end{equation}\n",
        "\n",
        "### Constraints\n",
        "\n",
        "NA\n"
      ]
    },
    {
      "cell_type": "markdown",
      "metadata": {
        "id": "LrdbknV1oi4f"
      },
      "source": [
        "---\n",
        "\n",
        "## Python Implementation\n",
        "\n",
        "We now import the Gurobi Python Module and other Python libraries."
      ]
    },
    {
      "cell_type": "code",
      "execution_count": null,
      "metadata": {
        "id": "_xPuyCPtoi4f",
        "colab": {
          "base_uri": "https://localhost:8080/"
        },
        "outputId": "16bb153c-1c7c-496c-93c8-0c34f8e9b54f"
      },
      "outputs": [
        {
          "output_type": "stream",
          "name": "stdout",
          "text": [
            "Collecting gurobipy\n",
            "  Downloading gurobipy-11.0.3-cp310-cp310-manylinux2014_x86_64.manylinux_2_17_x86_64.whl.metadata (15 kB)\n",
            "Downloading gurobipy-11.0.3-cp310-cp310-manylinux2014_x86_64.manylinux_2_17_x86_64.whl (13.4 MB)\n",
            "\u001b[2K   \u001b[90m━━━━━━━━━━━━━━━━━━━━━━━━━━━━━━━━━━━━━━━━\u001b[0m \u001b[32m13.4/13.4 MB\u001b[0m \u001b[31m37.3 MB/s\u001b[0m eta \u001b[36m0:00:00\u001b[0m\n",
            "\u001b[?25hInstalling collected packages: gurobipy\n",
            "Successfully installed gurobipy-11.0.3\n"
          ]
        }
      ],
      "source": [
        "%pip install gurobipy"
      ]
    },
    {
      "cell_type": "code",
      "execution_count": null,
      "metadata": {
        "id": "vZuT7rzcoi4g"
      },
      "outputs": [],
      "source": [
        "from itertools import product\n",
        "from math import sqrt, factorial\n",
        "import numpy as np\n",
        "import gurobipy as gp\n",
        "from gurobipy import GRB\n",
        "\n",
        "# tested with Gurobi v9.1.0 and Python 3.7.0"
      ]
    },
    {
      "cell_type": "code",
      "source": [
        "p=[450,\t300,\t440,\t360,\t290,\t450,\t340,\t370,\t500,\t490,\t430,\t390]\n",
        "d=[45,\t103,\t49,\t86,\t125,\t52,\t87,\t68,\t45,\t44,\t58,\t68]\n",
        "print(p)\n",
        "print(d)"
      ],
      "metadata": {
        "colab": {
          "base_uri": "https://localhost:8080/"
        },
        "id": "MH4k4cT7QTNA",
        "outputId": "1ab7e9be-61b8-4aba-90e5-e5f7a4e35478"
      },
      "execution_count": null,
      "outputs": [
        {
          "output_type": "stream",
          "name": "stdout",
          "text": [
            "[450, 300, 440, 360, 290, 450, 340, 370, 500, 490, 430, 390]\n",
            "[45, 103, 49, 86, 125, 52, 87, 68, 45, 44, 58, 68]\n"
          ]
        }
      ]
    },
    {
      "cell_type": "code",
      "source": [
        "#####################################################\n",
        "#                    Model Formulation\n",
        "#####################################################\n",
        "\n",
        "m = gp.Model('cyprus potatoes pricing')\n",
        "\n",
        "# Inputs\n",
        "month = [*range(0,12)]\n",
        "\n",
        "p=[450,\t300,\t440,\t360,\t290,\t450,\t340,\t370,\t500,\t490,\t430,\t390]\n",
        "\n",
        "d=[45,\t103,\t49,\t86,\t125,\t52,\t87,\t68,\t45,\t44,\t58,\t68]\n",
        "\n",
        "# Decisions\n",
        "a = m.addVar(vtype=GRB.CONTINUOUS,lb=-GRB.INFINITY, name='Intercept')\n",
        "b = m.addVar(vtype=GRB.CONTINUOUS,lb=-GRB.INFINITY, name='Slope')\n",
        "\n",
        "# Objective: Minimize squared errors\n",
        "m.setObjective(gp.quicksum((d[i] - (a + b*p[i])) * (d[i] - (a + b*p[i])) for i in month), GRB.MINIMIZE)\n",
        "\n",
        "# Constraints: Not applicable (NA)\n",
        "\n",
        "# Run optimization engine\n",
        "m.optimize()"
      ],
      "metadata": {
        "colab": {
          "base_uri": "https://localhost:8080/"
        },
        "id": "4fR9DtyUQ7k2",
        "outputId": "0bfce2d3-e026-404e-baec-7e291c250383"
      },
      "execution_count": null,
      "outputs": [
        {
          "output_type": "stream",
          "name": "stdout",
          "text": [
            "Restricted license - for non-production use only - expires 2025-11-24\n",
            "Gurobi Optimizer version 11.0.3 build v11.0.3rc0 (linux64 - \"Ubuntu 22.04.3 LTS\")\n",
            "\n",
            "CPU model: Intel(R) Xeon(R) CPU @ 2.20GHz, instruction set [SSE2|AVX|AVX2]\n",
            "Thread count: 1 physical cores, 2 logical processors, using up to 2 threads\n",
            "\n",
            "Optimize a model with 0 rows, 2 columns and 0 nonzeros\n",
            "Model fingerprint: 0x46929e2b\n",
            "Model has 3 quadratic objective terms\n",
            "Coefficient statistics:\n",
            "  Matrix range     [0e+00, 0e+00]\n",
            "  Objective range  [2e+03, 6e+05]\n",
            "  QObjective range [2e+01, 4e+06]\n",
            "  Bounds range     [0e+00, 0e+00]\n",
            "  RHS range        [0e+00, 0e+00]\n",
            "Presolve time: 0.01s\n",
            "Presolved: 0 rows, 2 columns, 0 nonzeros\n",
            "Presolved model has 3 quadratic objective terms\n",
            "Ordering time: 0.00s\n",
            "\n",
            "Barrier statistics:\n",
            " Free vars  : 3\n",
            " AA' NZ     : 0.000e+00\n",
            " Factor NZ  : 1.000e+00\n",
            " Factor Ops : 1.000e+00 (less than 1 second per iteration)\n",
            " Threads    : 1\n",
            "\n",
            "                  Objective                Residual\n",
            "Iter       Primal          Dual         Primal    Dual     Compl     Time\n",
            "   0   6.49020000e+04  6.49020000e+04  0.00e+00 5.19e+01  0.00e+00     0s\n",
            "   1   7.16073614e+02  7.16246321e+02  6.00e-09 5.85e-05  0.00e+00     0s\n",
            "   2   7.16073295e+02  7.16073295e+02  6.08e-14 6.12e-11  0.00e+00     0s\n",
            "\n",
            "Barrier solved model in 2 iterations and 0.03 seconds (0.00 work units)\n",
            "Optimal objective 7.16073295e+02\n",
            "\n"
          ]
        }
      ]
    },
    {
      "cell_type": "code",
      "source": [
        "#####################################################\n",
        "#         Print out the solutions of the demand function\n",
        "#####################################################\n",
        "\n",
        "print(f\"\\n\\n___Optimal parameters for linear demand function________\")\n",
        "print(\"The intercept is %3f\" % (a.x))\n",
        "print(\"The slope is %3f \" % (b.x))\n"
      ],
      "metadata": {
        "id": "8aNo8QaISobW",
        "colab": {
          "base_uri": "https://localhost:8080/"
        },
        "outputId": "95b78e9b-bced-4c7e-ed9e-0c15826c0680"
      },
      "execution_count": null,
      "outputs": [
        {
          "output_type": "stream",
          "name": "stdout",
          "text": [
            "\n",
            "\n",
            "___Optimal parameters for linear demand function________\n",
            "The intercept is 211.314675\n",
            "The slope is -0.354631 \n"
          ]
        }
      ]
    },
    {
      "cell_type": "markdown",
      "metadata": {
        "id": "1dtfCnnmp5lz"
      },
      "source": [
        "## Model (b) Formulation - Find the optimal price\n",
        "\n",
        "### Parameters\n",
        "\n",
        "$a$: Intercept of the demand function\n",
        "\n",
        "$b$: Slope of the demand function\n",
        "\n",
        "### Decision Variables\n",
        "\n",
        "$x$: Price to charge\n",
        "\n",
        "### Objective Function\n",
        "\n",
        "Revenue - we want to maximize expected revenue\n",
        "\n",
        "\\begin{equation}\n",
        "\\text{Max}_{x} \\quad x * d(x) = x * (a + b*x)\n",
        "\\tag{0}\n",
        "\\end{equation}\n",
        "\n",
        "### Constraints\n",
        "\n",
        "(1) $x\\geq 0$ [price non-negative]\n"
      ]
    },
    {
      "cell_type": "markdown",
      "metadata": {
        "id": "s3vXtk5hq4N1"
      },
      "source": [
        "---\n",
        "\n",
        "## Python Implementation\n",
        "\n",
        "We now implement the second model in Python"
      ]
    },
    {
      "cell_type": "code",
      "source": [
        "#####################################################\n",
        "#                    Model Formulation\n",
        "#####################################################\n",
        "\n",
        "m = gp.Model('cyprus potatoes pricing')\n",
        "\n",
        "# Inputs\n",
        "\n",
        "a=211.314675\n",
        "\n",
        "b=-0.354631\n",
        "\n",
        "# Decisions\n",
        "x = m.addVar(vtype=GRB.CONTINUOUS, name='Price')\n",
        "\n",
        "# Objective: Maximize revenue\n",
        "m.setObjective(x*(a + b*x), GRB.MAXIMIZE)\n",
        "\n",
        "# Constraints:\n",
        "\n",
        "priceConstr = m.addConstr(x >= 0, name='priceConstr')\n",
        "\n",
        "# Run optimization engine\n",
        "m.optimize()"
      ],
      "metadata": {
        "colab": {
          "base_uri": "https://localhost:8080/"
        },
        "outputId": "99fb372b-a983-42e1-86b9-b68906e9a7c4",
        "id": "mkcbl9dnrGT1"
      },
      "execution_count": null,
      "outputs": [
        {
          "output_type": "stream",
          "name": "stdout",
          "text": [
            "Gurobi Optimizer version 11.0.3 build v11.0.3rc0 (linux64 - \"Ubuntu 22.04.3 LTS\")\n",
            "\n",
            "CPU model: Intel(R) Xeon(R) CPU @ 2.20GHz, instruction set [SSE2|AVX|AVX2]\n",
            "Thread count: 1 physical cores, 2 logical processors, using up to 2 threads\n",
            "\n",
            "Optimize a model with 1 rows, 1 columns and 1 nonzeros\n",
            "Model fingerprint: 0x147e1e86\n",
            "Model has 1 quadratic objective term\n",
            "Coefficient statistics:\n",
            "  Matrix range     [1e+00, 1e+00]\n",
            "  Objective range  [2e+02, 2e+02]\n",
            "  QObjective range [7e-01, 7e-01]\n",
            "  Bounds range     [0e+00, 0e+00]\n",
            "  RHS range        [0e+00, 0e+00]\n",
            "Presolve removed 1 rows and 1 columns\n",
            "Presolve time: 0.01s\n",
            "Presolve: All rows and columns removed\n",
            "\n",
            "Barrier solved model in 0 iterations and 0.01 seconds (0.00 work units)\n",
            "Optimal objective 3.14791233e+04\n"
          ]
        }
      ]
    },
    {
      "cell_type": "code",
      "source": [
        "#####################################################\n",
        "#         Print out the solutions of the pricing problem\n",
        "#####################################################\n",
        "\n",
        "print(f\"\\n\\n___Optimal price for cyprus potatoes________\")\n",
        "print(\"The optimal price is %3f\" % (x.x))\n",
        "print(\"The optimal expected revenue is %3f \" % (m.ObjVal))\n"
      ],
      "metadata": {
        "colab": {
          "base_uri": "https://localhost:8080/"
        },
        "outputId": "ea92dc17-e8e3-4fb2-9c5a-6e5c13647228",
        "id": "OREzPYOEr3ms"
      },
      "execution_count": null,
      "outputs": [
        {
          "output_type": "stream",
          "name": "stdout",
          "text": [
            "\n",
            "\n",
            "___Optimal price for cyprus potatoes________\n",
            "The optimal price is 297.935988\n",
            "The optimal expected revenue is 31479.123279 \n"
          ]
        }
      ]
    },
    {
      "cell_type": "markdown",
      "metadata": {
        "id": "uyx97WQIoi4k"
      },
      "source": [
        "---\n",
        "##  Conclusion\n",
        "\n",
        "In this example, we addressed the optimal pricing problem. We solved this problem using two step optimization approach:\n",
        "* In the first step, we estimate the demand function,\n",
        "* In the second step, we find the optimal price based on the above estimated demand function\n",
        "\n",
        "The pricing example and the models we developed here can be adapted to address more complex pricing issues by many organizations to help make informed decisions about how to set optimal prices in a scientific approach.\n"
      ]
    },
    {
      "cell_type": "markdown",
      "metadata": {
        "id": "XiMLngKYoi4l"
      },
      "source": [
        "##  References\n",
        "[1] Sixty examples of business optimization models. https://ytyimin.github.io/tart-cherry/."
      ]
    }
  ],
  "metadata": {
    "kernelspec": {
      "display_name": "Python 3",
      "language": "python",
      "name": "python3"
    },
    "language_info": {
      "codemirror_mode": {
        "name": "ipython",
        "version": 3
      },
      "file_extension": ".py",
      "mimetype": "text/x-python",
      "name": "python",
      "nbconvert_exporter": "python",
      "pygments_lexer": "ipython3",
      "version": "3.7.1"
    },
    "colab": {
      "provenance": [],
      "include_colab_link": true
    }
  },
  "nbformat": 4,
  "nbformat_minor": 0
}