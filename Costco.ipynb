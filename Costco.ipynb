{
  "nbformat": 4,
  "nbformat_minor": 0,
  "metadata": {
    "colab": {
      "provenance": [],
      "authorship_tag": "ABX9TyPDdXRBLw4yv/YxhGA0Q0z6",
      "include_colab_link": true
    },
    "kernelspec": {
      "name": "python3",
      "display_name": "Python 3"
    },
    "language_info": {
      "name": "python"
    }
  },
  "cells": [
    {
      "cell_type": "markdown",
      "metadata": {
        "id": "view-in-github",
        "colab_type": "text"
      },
      "source": [
        "<a href=\"https://colab.research.google.com/github/Lee-Minsoo-97/Decision-Modeling/blob/main/Costco.ipynb\" target=\"_parent\"><img src=\"https://colab.research.google.com/assets/colab-badge.svg\" alt=\"Open In Colab\"/></a>"
      ]
    },
    {
      "cell_type": "code",
      "source": [
        "!pip install gurobipy"
      ],
      "metadata": {
        "colab": {
          "base_uri": "https://localhost:8080/"
        },
        "id": "uSMR7pWMQyxz",
        "outputId": "8faf87ea-234f-417f-c107-e878395e3c2a"
      },
      "execution_count": null,
      "outputs": [
        {
          "output_type": "stream",
          "name": "stdout",
          "text": [
            "Requirement already satisfied: gurobipy in /usr/local/lib/python3.10/dist-packages (12.0.0)\n"
          ]
        }
      ]
    },
    {
      "cell_type": "code",
      "execution_count": null,
      "metadata": {
        "id": "U4gBnUYlQcGC"
      },
      "outputs": [],
      "source": [
        "from gurobipy import Model, GRB\n",
        "import pandas as pd\n",
        "import numpy as np\n",
        "\n",
        "# Define data for destinations, distances, and stops\n",
        "destination_names = [\n",
        "    \"Atlanta\", \"Everett\", \"Ephrata\", \"Riverview\", \"Carson\",\n",
        "    \"Chamblee\", \"Roseville\", \"Hanover\", \"Sparks\", \"Parsippany\",\n",
        "    \"Effingham\", \"Kearny\"\n",
        "]\n",
        "distances = [612, 612, 190, 383, 3063, 429, 600, 136, 2439, 355, 570, 324]  # Distance in miles\n",
        "num_stops = [0, 3, 0, 0, 2, 0, 3, 0, 0, 1, 0, 0]  # Number of intermediate stops for each destination\n",
        "\n",
        "# Carrier rates (in dollars per mile) for each destination (NaN means carrier does not serve destination)\n",
        "carrier_rates = {\n",
        "    'A': [np.nan, np.nan, np.nan, 0.79, np.nan, np.nan, 1.24, np.nan, np.nan, np.nan, 0.87, np.nan],\n",
        "    'B': [0.88, 1.18, 3.42, 1.01, 0.80, 1.23, 1.13, 4.78, 1.45, 1.62, 0.87, 2.01],\n",
        "    'C': [1.15, 1.27, 1.73, 1.25, 0.87, 1.61, 1.89, 2.23, np.nan, 1.36, 1.25, 1.54],\n",
        "    'D': [0.87, 1.39, 1.71, 0.96, np.nan, 1.22, 1.32, 2.39, 1.20, 1.39, 0.87, 1.53],\n",
        "    'E': [0.95, 1.35, 1.82, 0.95, 1.00, 1.33, 1.41, 2.26, np.nan, 1.03, 0.90, 1.28],\n",
        "    'F': [1.05, 1.28, 2.00, 1.11, np.nan, 1.47, 1.41, 2.57, np.nan, 1.76, 1.31, 1.95]\n",
        "}\n",
        "\n",
        "# Fixed costs and charges\n",
        "minimum_cost_per_load = {'A': 350, 'B': 400, 'C': 350, 'D': 300, 'E': 350, 'F': 300}\n",
        "stop_off_charge = {'A': 50, 'B': 75, 'C': 50, 'D': 35, 'E': 50, 'F': 50}\n"
      ]
    },
    {
      "cell_type": "code",
      "source": [
        "# Step 1: Calculate cost matrix dynamically\n",
        "cost_matrix = []\n",
        "for i in range(len(destination_names)):\n",
        "    row = []\n",
        "    for carrier in carrier_rates.keys():\n",
        "        if not np.isnan(carrier_rates[carrier][i]):\n",
        "            # Calculate cost as mileage cost + stop-off cost\n",
        "            mileage_cost = distances[i] * carrier_rates[carrier][i]\n",
        "            stop_cost = num_stops[i] * stop_off_charge[carrier]\n",
        "            total_cost = max(mileage_cost + stop_cost, minimum_cost_per_load[carrier])\n",
        "        else:\n",
        "            total_cost = np.inf  # Set as infinite if carrier cannot serve the destination\n",
        "        row.append(total_cost)\n",
        "    cost_matrix.append(row)\n",
        "\n",
        "# Convert cost matrix into a DataFrame for better readability\n",
        "cost_df = pd.DataFrame(cost_matrix, columns=carrier_rates.keys(), index=destination_names)"
      ],
      "metadata": {
        "id": "IBlDzKGPQlN2"
      },
      "execution_count": null,
      "outputs": []
    },
    {
      "cell_type": "code",
      "source": [
        "# Step 2: Define requirements and constraints\n",
        "# Number of trips required for each destination\n",
        "trips_required = [4, 1, 3, 5, 1, 1, 1, 1, 2, 1, 5, 7]\n",
        "\n",
        "# Maximum number of trips each carrier can handle\n",
        "carrier_capacity = {\n",
        "    'A': 4,\n",
        "    'B': 8,\n",
        "    'C': 7,\n",
        "    'D': 7,\n",
        "    'E': 3,\n",
        "    'F': 4\n",
        "}\n",
        "\n",
        "# Minimum number of trips each carrier must handle\n",
        "minimum_carrier_commitment = {\n",
        "    'A': 1,\n",
        "    'B': 7,\n",
        "    'C': 6,\n",
        "    'D': 0,\n",
        "    'E': 0,\n",
        "    'F': 4\n",
        "}"
      ],
      "metadata": {
        "id": "NKbpo-m8Qoah"
      },
      "execution_count": null,
      "outputs": []
    },
    {
      "cell_type": "code",
      "source": [
        "# Step 3: Initialize the optimization model\n",
        "model = Model(\"Costco_Distribution_Optimization\")\n",
        "\n",
        "# Decision variables: x[destination, carrier] represents trips assigned\n",
        "x = model.addVars(len(destination_names), len(carrier_rates), vtype=GRB.INTEGER, name=\"x\")"
      ],
      "metadata": {
        "id": "X_I5ascLQpxQ"
      },
      "execution_count": null,
      "outputs": []
    },
    {
      "cell_type": "code",
      "source": [
        "# Step 4: Define the objective function (minimize total cost)\n",
        "model.setObjective(\n",
        "    sum(\n",
        "        x[i, j] * (cost_df.iloc[i, j] if np.isfinite(cost_df.iloc[i, j]) else 1e6)\n",
        "        for i in range(len(destination_names))\n",
        "        for j in range(len(carrier_rates))\n",
        "    ),\n",
        "    GRB.MINIMIZE\n",
        ")\n"
      ],
      "metadata": {
        "id": "faV57OtPQ5CM"
      },
      "execution_count": null,
      "outputs": []
    },
    {
      "cell_type": "code",
      "source": [
        "# Step 5: Add constraints\n",
        "# 5.1: Ensure all trips are assigned for each destination\n",
        "for i in range(len(destination_names)):\n",
        "    model.addConstr(\n",
        "        sum(x[i, j] for j in range(len(carrier_rates))) == trips_required[i],\n",
        "        name=f\"Trips_Assigned_{destination_names[i]}\"\n",
        "    )\n",
        "\n",
        "# 5.2: Carrier capacity constraints\n",
        "for j, carrier in enumerate(carrier_rates.keys()):\n",
        "    model.addConstr(\n",
        "        sum(x[i, j] for i in range(len(destination_names))) <= carrier_capacity[carrier],\n",
        "        name=f\"Carrier_Capacity_{carrier}\"\n",
        "    )\n",
        "\n",
        "# 5.3: Minimum carrier commitment constraints\n",
        "for j, carrier in enumerate(carrier_rates.keys()):\n",
        "    model.addConstr(\n",
        "        sum(x[i, j] for i in range(len(destination_names))) >= minimum_carrier_commitment[carrier],\n",
        "        name=f\"Carrier_Commitment_{carrier}\"\n",
        "    )\n"
      ],
      "metadata": {
        "id": "Q4SlntRuoaE7"
      },
      "execution_count": null,
      "outputs": []
    },
    {
      "cell_type": "code",
      "source": [
        "# Step 6: Solve the model\n",
        "model.optimize()\n",
        "\n",
        "# Check if the solution is optimal\n",
        "if model.status == GRB.OPTIMAL:\n",
        "    # Extract the assignment matrix and round to integers\n",
        "    optimal_assignment = pd.DataFrame(\n",
        "        [[round(x[i, j].x) for j in range(len(carrier_rates))] for i in range(len(destination_names))],\n",
        "        columns=carrier_rates.keys(),\n",
        "        index=destination_names\n",
        "    )\n",
        "    # Print the table\n",
        "    print(\"Optimal Carrier Assignment:\")\n",
        "    print(optimal_assignment.to_string(float_format=lambda x: f\"{int(x):d}\"))\n",
        "    print(f\"\\nTotal Cost: ${model.objVal:.2f}\")\n",
        "else:\n",
        "    print(\"Optimization was not successful. Status:\", model.status)"
      ],
      "metadata": {
        "colab": {
          "base_uri": "https://localhost:8080/"
        },
        "id": "QMBPZfhAocJb",
        "outputId": "36bba9c3-186d-4b3b-9f39-896e90ca9e49"
      },
      "execution_count": null,
      "outputs": [
        {
          "output_type": "stream",
          "name": "stdout",
          "text": [
            "Gurobi Optimizer version 12.0.0 build v12.0.0rc1 (linux64 - \"Ubuntu 22.04.3 LTS\")\n",
            "\n",
            "CPU model: Intel(R) Xeon(R) CPU @ 2.20GHz, instruction set [SSE2|AVX|AVX2]\n",
            "Thread count: 1 physical cores, 2 logical processors, using up to 2 threads\n",
            "\n",
            "Optimize a model with 24 rows, 72 columns and 216 nonzeros\n",
            "Model fingerprint: 0x52fd94ac\n",
            "Variable types: 0 continuous, 72 integer (0 binary)\n",
            "Coefficient statistics:\n",
            "  Matrix range     [1e+00, 1e+00]\n",
            "  Objective range  [3e+02, 1e+06]\n",
            "  Bounds range     [0e+00, 0e+00]\n",
            "  RHS range        [1e+00, 8e+00]\n",
            "Presolved: 21 rows, 72 columns, 180 nonzeros\n",
            "\n",
            "Continuing optimization...\n",
            "\n",
            "\n",
            "Explored 1 nodes (22 simplex iterations) in 0.09 seconds (0.00 work units)\n",
            "Thread count was 2 (of 2 available processors)\n",
            "\n",
            "Solution count 2: 22394.4 4.0221e+06 \n",
            "\n",
            "Optimal solution found (tolerance 1.00e-04)\n",
            "Best objective 2.239438000000e+04, best bound 2.239438000000e+04, gap 0.0000%\n",
            "Optimal Carrier Assignment:\n",
            "            A  B  C  D  E  F\n",
            "Atlanta     0  0  0  4  0  0\n",
            "Everett     0  0  0  0  0  1\n",
            "Ephrata     0  0  1  0  0  2\n",
            "Riverview   4  0  0  1  0  0\n",
            "Carson      0  1  0  0  0  0\n",
            "Chamblee    0  1  0  0  0  0\n",
            "Roseville   0  1  0  0  0  0\n",
            "Hanover     0  0  0  0  0  1\n",
            "Sparks      0  0  0  2  0  0\n",
            "Parsippany  0  0  0  0  1  0\n",
            "Effingham   0  5  0  0  0  0\n",
            "Kearny      0  0  5  0  2  0\n",
            "\n",
            "Total Cost: $22394.38\n"
          ]
        }
      ]
    },
    {
      "cell_type": "code",
      "source": [],
      "metadata": {
        "id": "5W8Bzc0Aoic1"
      },
      "execution_count": null,
      "outputs": []
    }
  ]
}